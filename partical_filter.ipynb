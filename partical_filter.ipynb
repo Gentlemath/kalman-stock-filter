{
 "cells": [
  {
   "cell_type": "markdown",
   "id": "0a3d50e4",
   "metadata": {},
   "source": [
    "# Study notes of different filters"
   ]
  },
  {
   "cell_type": "markdown",
   "id": "5d613b4e",
   "metadata": {},
   "source": [
    "## Bayesian Filter\n",
    "\n",
    "1. define belief of a state:\n",
    "    Let $u_{1:t}$ be the controls up to time $t$, $z_{1:t}$ \n",
    "    \n",
    "    \\begin{align*}\n",
    "    bel(x_t) &= p(x_t|z_{1:t}, u_{1:t})\\\\\n",
    "    & =  P(z_t|z_{1:t-1}, u_{1:t}, x_t)*P(x_t|z_{1:t-1}, u_{1:t})/P(z_t|z_{1:t-1}, u_{1:t})\\\\\n",
    "    & = \\eta P(z_t|z_{1:t-1}, u_{1:t}, x_t)*P(x_t|z_{1:t-1}, u_{1:t})\\\\\n",
    "    & = \\eta P(z_t|x_t) * \\int P(x_t, x_{t-1}|z_{1:t-1}, u_{1:t}) d x_{t-1}\\\\\n",
    "    & = \\eta P(z_t|x_t) * \\int P(x_t| x_{t-1}, z_{1:t-1}, u_{1:t})*P(x_{t-1}|z_{1:t-1}, u_{1:t}) d x_{t-1}\\\\\n",
    "    & = \\eta P(z_t|x_t) * \\int P(x_t| x_{t-1}, u_{t})*P(x_{t-1}|z_{1:t-1}, u_{1:t}) d x_{t-1}\\\\\n",
    "    & = \\eta P(z_t|x_t) * \\int P(x_t| x_{t-1}, u_{t})* bel(x_{t-1}) d x_{t-1}\\\\\n",
    "\n",
    "    \\end{align*}\n",
    "\n",
    "- step1 prediction: $\\bar{bel}(x_{t-1}) = \\int P(x_t| x_{t-1}, u_{t})* bel(x_{t-1}) d x_{t-1}$\n",
    "- step2 measurement update: $bel(x_t) = \\eta P(z_t|x_t)\\bar{bel}(x_{t-1})$"
   ]
  },
  {
   "cell_type": "markdown",
   "id": "3c55da3e",
   "metadata": {},
   "source": [
    "## Kalman Filter\n",
    "1. model\n",
    "2. "
   ]
  },
  {
   "cell_type": "markdown",
   "id": "c580ff4f",
   "metadata": {},
   "source": [
    "# Partical Filter\n",
    "\n",
    "Given N particles ${x_{t-1}^{(n)}, w_{t-1}^{(n)}}$:\n",
    "\n",
    "1. Prediction (Sampling from the motion model)\n",
    "   For each n:\n",
    "       $x̃_t^{(n)} ~ p(x_t | x_{t-1}^{(n)}, u_t)$      # propagate\n",
    "\n",
    "2. Correction (Weighting by the new observation)\n",
    "   For each n:\n",
    "       $w̃_t^{(n)} = w_{t-1}^{(n)} · p(z_t | x̃_t^{(n)})$   # likelihood\n",
    "\n",
    "3. Normalise weights\n",
    "       $w_t^{(n)} = w̃_t^{(n)} / Σ_{k=1}^N w̃_t^{(k)}$\n",
    "\n",
    "4. Resample (optional but usually necessary)\n",
    "   Draw $N$ new particles from the set ${x̃_t^{(n)}}$ with probabilities ${w_t^{(n)}}$;\n",
    "   reset all weights to $1/N$.\n"
   ]
  },
  {
   "cell_type": "markdown",
   "id": "dbfab7c6",
   "metadata": {},
   "source": []
  }
 ],
 "metadata": {
  "language_info": {
   "name": "python"
  }
 },
 "nbformat": 4,
 "nbformat_minor": 5
}
